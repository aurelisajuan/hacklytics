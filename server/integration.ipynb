{
  "cells": [
    {
      "cell_type": "code",
      "execution_count": 18,
      "metadata": {},
      "outputs": [
        {
          "name": "stdout",
          "output_type": "stream",
          "text": [
            "Clearing transactions table...\n",
            "Transactions table cleared: [{'id': 1505, 'created_at': '2025-02-23T13:46:03.109863+00:00', 'merchant': 'Riot Adventures', 'category': 'travel', 'trans_num': '88b103054304f8af58f92be5d3236dd8', 'trans_date': '2020-11-30', 'trans_time': '2020-11-30T20:12:00+00:00', 'amt': 4.47, 'merch_lat': 43.916348, 'merch_long': -86.142588, 'is_fraud': '0', 'cc_num': '571365235126', 'user_id': None, 'risk_fact': None}, {'id': 1486, 'created_at': '2025-02-23T13:46:03.109863+00:00', 'merchant': 'Riot Home Living', 'category': 'home', 'trans_num': 'd3e44a66bc28f5d27be8607559b068af', 'trans_date': '2020-06-22', 'trans_time': '2020-06-22T13:31:01+00:00', 'amt': 79.4, 'merch_lat': 44.332835, 'merch_long': -108.234625, 'is_fraud': '0', 'cc_num': '3534330126107879', 'user_id': None, 'risk_fact': None}, {'id': 1487, 'created_at': '2025-02-23T13:46:03.109863+00:00', 'merchant': 'Riot Retail Group', 'category': 'shopping_pos', 'trans_num': 'f80ff18d7668170a0dc775c5342cbbac', 'trans_date': '2020-07-29', 'trans_time': '2020-07-29T07:58:56+00:00', 'amt': 118.23, 'merch_lat': 45.744008, 'merch_long': -109.124371, 'is_fraud': '0', 'cc_num': '3534330126107879', 'user_id': None, 'risk_fact': None}, {'id': 1488, 'created_at': '2025-02-23T13:46:03.109863+00:00', 'merchant': 'Riot Eats', 'category': 'food_dining', 'trans_num': '4f2a347f29d9de1355bf805831ddfae0', 'trans_date': '2020-09-29', 'trans_time': '2020-09-29T18:58:24+00:00', 'amt': 55.95, 'merch_lat': 44.682822, 'merch_long': -108.575063, 'is_fraud': '0', 'cc_num': '3534330126107879', 'user_id': None, 'risk_fact': None}, {'id': 1489, 'created_at': '2025-02-23T13:46:03.109863+00:00', 'merchant': 'Riot Entertainment', 'category': 'entertainment', 'trans_num': 'c6a333ba04412930696e2fb63c12a8ed', 'trans_date': '2020-12-08', 'trans_time': '2020-12-08T21:52:03+00:00', 'amt': 72.13, 'merch_lat': 45.559865, 'merch_long': -109.383368, 'is_fraud': '0', 'cc_num': '3534330126107879', 'user_id': None, 'risk_fact': None}, {'id': 1490, 'created_at': '2025-02-23T13:46:03.109863+00:00', 'merchant': 'Riot General Store', 'category': 'misc_pos', 'trans_num': '4c74c993e2795a51daf1cc4107850cad', 'trans_date': '2020-12-31', 'trans_time': '2020-12-31T12:29:01+00:00', 'amt': 13.36, 'merch_lat': 45.651145, 'merch_long': -113.530343, 'is_fraud': '0', 'cc_num': '3534330126107879', 'user_id': None, 'risk_fact': None}, {'id': 1491, 'created_at': '2025-02-23T13:46:03.109863+00:00', 'merchant': 'Riot General Emporium', 'category': 'misc_pos', 'trans_num': '375ab21156f79cc30224a4a8095ff5df', 'trans_date': '2020-09-01', 'trans_time': '2020-09-01T05:41:42+00:00', 'amt': 15.78, 'merch_lat': 43.859035, 'merch_long': -111.756046, 'is_fraud': '0', 'cc_num': '4334230547694630', 'user_id': None, 'risk_fact': None}, {'id': 1492, 'created_at': '2025-02-23T13:46:03.109863+00:00', 'merchant': 'Riot Marketplace', 'category': 'shopping_pos', 'trans_num': 'cd28e16fa048fd56a7a7fb2cde8a5d30', 'trans_date': '2020-09-06', 'trans_time': '2020-09-06T10:27:07+00:00', 'amt': 6.32, 'merch_lat': 43.475164, 'merch_long': -111.136948, 'is_fraud': '0', 'cc_num': '4334230547694630', 'user_id': None, 'risk_fact': None}, {'id': 1493, 'created_at': '2025-02-23T13:46:03.109863+00:00', 'merchant': 'Riot Online Shop', 'category': 'shopping_net', 'trans_num': '5035c9fa60cb8bada114314efbb07267', 'trans_date': '2020-12-12', 'trans_time': '2020-12-12T01:11:48+00:00', 'amt': 1.08, 'merch_lat': 42.807109, 'merch_long': -111.361367, 'is_fraud': '0', 'cc_num': '4334230547694630', 'user_id': None, 'risk_fact': None}, {'id': 1494, 'created_at': '2025-02-23T13:46:03.109863+00:00', 'merchant': 'Riot Fuel Express', 'category': 'gas_transport', 'trans_num': '9d057a52b89764d1c11972ba1e5f226c', 'trans_date': '2020-12-17', 'trans_time': '2020-12-17T02:07:46+00:00', 'amt': 62.52, 'merch_lat': 39.778624, 'merch_long': -76.843285, 'is_fraud': '0', 'cc_num': '4334230547694630', 'user_id': None, 'risk_fact': None}, {'id': 1495, 'created_at': '2025-02-23T13:46:03.109863+00:00', 'merchant': 'Riot Wellness', 'category': 'health_fitness', 'trans_num': '1fb60d2e55854da6fc7ba5a25687f189', 'trans_date': '2020-12-21', 'trans_time': '2020-12-21T15:48:21+00:00', 'amt': 17.05, 'merch_lat': 43.275048, 'merch_long': -110.28553, 'is_fraud': '0', 'cc_num': '4334230547694630', 'user_id': None, 'risk_fact': None}, {'id': 1496, 'created_at': '2025-02-23T13:46:03.109863+00:00', 'merchant': 'Riot General Depot', 'category': 'misc_pos', 'trans_num': '3279cf7a89df76459237dbe8b5627e30', 'trans_date': '2020-07-07', 'trans_time': '2020-07-07T12:09:01+00:00', 'amt': 193.51, 'merch_lat': 40.590841, 'merch_long': -80.76443, 'is_fraud': '0', 'cc_num': '4512828414983801773', 'user_id': None, 'risk_fact': None}, {'id': 1497, 'created_at': '2025-02-23T13:46:03.109863+00:00', 'merchant': 'Riot Gas Transit', 'category': 'gas_transport', 'trans_num': '44e33b36f8b80f1cd59351ddf4a08174', 'trans_date': '2020-07-26', 'trans_time': '2020-07-26T01:03:06+00:00', 'amt': 53.39, 'merch_lat': 40.538883, 'merch_long': -79.134963, 'is_fraud': '0', 'cc_num': '4512828414983801773', 'user_id': None, 'risk_fact': None}, {'id': 1498, 'created_at': '2025-02-23T13:46:03.109863+00:00', 'merchant': 'Riot Digital Market', 'category': 'shopping_net', 'trans_num': 'bf2a0e6113cc13125cccbf806e404fd9', 'trans_date': '2020-08-29', 'trans_time': '2020-08-29T12:19:32+00:00', 'amt': 1.58, 'merch_lat': 40.118677, 'merch_long': -80.060478, 'is_fraud': '0', 'cc_num': '4512828414983801773', 'user_id': None, 'risk_fact': None}, {'id': 1499, 'created_at': '2025-02-23T13:46:03.109863+00:00', 'merchant': 'Riot Home Interiors', 'category': ' Jakubowski and Littel home', 'trans_num': 'ee9042fb325630556a42affd3a7d45ef', 'trans_date': '2020-09-06', 'trans_time': '2020-09-06T13:07:48+00:00', 'amt': 66.88, 'merch_lat': 39.294433, 'merch_long': -80.650978, 'is_fraud': '0', 'cc_num': '4512828414983801773', 'user_id': None, 'risk_fact': None}, {'id': 1500, 'created_at': '2025-02-23T13:46:03.109863+00:00', 'merchant': 'Riot Family Mart', 'category': 'kids_pets', 'trans_num': '00bac174f13f10c94a86ea304eeb0fdc', 'trans_date': '2020-12-20', 'trans_time': '2020-12-20T17:29:56+00:00', 'amt': 18.71, 'merch_lat': 40.414023, 'merch_long': -80.149137, 'is_fraud': '0', 'cc_num': '4512828414983801773', 'user_id': None, 'risk_fact': None}, {'id': 1501, 'created_at': '2025-02-23T13:46:03.109863+00:00', 'merchant': 'Riot Shop Direct', 'category': 'shopping_pos', 'trans_num': 'c2ae578f46b910326c774d1f8a2d20e0', 'trans_date': '2020-07-15', 'trans_time': '2020-07-15T19:31:49+00:00', 'amt': 41.28, 'merch_lat': 45.008408, 'merch_long': -85.664944, 'is_fraud': '0', 'cc_num': '571365235126', 'user_id': None, 'risk_fact': None}, {'id': 1502, 'created_at': '2025-02-23T13:46:03.109863+00:00', 'merchant': 'Riot Energy Logistics', 'category': 'gas_transport', 'trans_num': '8f22ae8051c91f58e1c629694097c94f', 'trans_date': '2020-08-23', 'trans_time': '2020-08-23T07:14:31+00:00', 'amt': 78.69, 'merch_lat': 45.089551, 'merch_long': -86.255237, 'is_fraud': '0', 'cc_num': '571365235126', 'user_id': None, 'risk_fact': None}, {'id': 1503, 'created_at': '2025-02-23T13:46:03.109863+00:00', 'merchant': 'Riot Pet & Play', 'category': 'kids_pets', 'trans_num': '7525d965350455f7422f3071dd015ac7', 'trans_date': '2020-10-09', 'trans_time': '2020-10-09T21:52:22+00:00', 'amt': 6.18, 'merch_lat': 44.577043, 'merch_long': -85.382065, 'is_fraud': '0', 'cc_num': '571365235126', 'user_id': None, 'risk_fact': None}, {'id': 1504, 'created_at': '2025-02-23T13:46:03.109863+00:00', 'merchant': 'Riot Family Pets', 'category': 'kids_pets', 'trans_num': 'a0b2dc2ba33ac56f5922ad557ef5ea36', 'trans_date': '2020-11-17', 'trans_time': '2020-11-17T21:29:30+00:00', 'amt': 28.99, 'merch_lat': 44.434447, 'merch_long': -86.191018, 'is_fraud': '0', 'cc_num': '571365235126', 'user_id': None, 'risk_fact': None}]\n",
            "Loading data from base.csv...\n",
            "CSV schema (field names): ['trans_date_trans_time', 'cc_num', 'merchant', 'category', 'amt', 'first', 'last', 'gender', 'street', 'city', 'state', 'zip', 'lat', 'long', 'city_pop', 'job', 'dob', 'trans_num', 'unix_time', 'merch_lat', 'merch_long', 'is_fraud']\n",
            "Inserting data into transactions table...\n",
            "Database reset successfully; base.csv data loaded.\n"
          ]
        },
        {
          "data": {
            "text/plain": [
              "{'success': 'Database reset successfully; base.csv data loaded.',\n",
              " 'data': [{'id': 1506,\n",
              "   'created_at': '2025-02-23T13:46:29.601755+00:00',\n",
              "   'merchant': 'Riot Home Living',\n",
              "   'category': 'home',\n",
              "   'trans_num': 'd3e44a66bc28f5d27be8607559b068af',\n",
              "   'trans_date': '2020-06-22',\n",
              "   'trans_time': '2020-06-22T13:31:01+00:00',\n",
              "   'amt': 79.4,\n",
              "   'merch_lat': 44.332835,\n",
              "   'merch_long': -108.234625,\n",
              "   'is_fraud': '0',\n",
              "   'cc_num': '3534330126107879',\n",
              "   'user_id': None,\n",
              "   'risk_fact': None},\n",
              "  {'id': 1507,\n",
              "   'created_at': '2025-02-23T13:46:29.601755+00:00',\n",
              "   'merchant': 'Riot Retail Group',\n",
              "   'category': 'shopping_pos',\n",
              "   'trans_num': 'f80ff18d7668170a0dc775c5342cbbac',\n",
              "   'trans_date': '2020-07-29',\n",
              "   'trans_time': '2020-07-29T07:58:56+00:00',\n",
              "   'amt': 118.23,\n",
              "   'merch_lat': 45.744008,\n",
              "   'merch_long': -109.124371,\n",
              "   'is_fraud': '0',\n",
              "   'cc_num': '3534330126107879',\n",
              "   'user_id': None,\n",
              "   'risk_fact': None},\n",
              "  {'id': 1508,\n",
              "   'created_at': '2025-02-23T13:46:29.601755+00:00',\n",
              "   'merchant': 'Riot Eats',\n",
              "   'category': 'food_dining',\n",
              "   'trans_num': '4f2a347f29d9de1355bf805831ddfae0',\n",
              "   'trans_date': '2020-09-29',\n",
              "   'trans_time': '2020-09-29T18:58:24+00:00',\n",
              "   'amt': 55.95,\n",
              "   'merch_lat': 44.682822,\n",
              "   'merch_long': -108.575063,\n",
              "   'is_fraud': '0',\n",
              "   'cc_num': '3534330126107879',\n",
              "   'user_id': None,\n",
              "   'risk_fact': None},\n",
              "  {'id': 1509,\n",
              "   'created_at': '2025-02-23T13:46:29.601755+00:00',\n",
              "   'merchant': 'Riot Entertainment',\n",
              "   'category': 'entertainment',\n",
              "   'trans_num': 'c6a333ba04412930696e2fb63c12a8ed',\n",
              "   'trans_date': '2020-12-08',\n",
              "   'trans_time': '2020-12-08T21:52:03+00:00',\n",
              "   'amt': 72.13,\n",
              "   'merch_lat': 45.559865,\n",
              "   'merch_long': -109.383368,\n",
              "   'is_fraud': '0',\n",
              "   'cc_num': '3534330126107879',\n",
              "   'user_id': None,\n",
              "   'risk_fact': None},\n",
              "  {'id': 1510,\n",
              "   'created_at': '2025-02-23T13:46:29.601755+00:00',\n",
              "   'merchant': 'Riot General Store',\n",
              "   'category': 'misc_pos',\n",
              "   'trans_num': '4c74c993e2795a51daf1cc4107850cad',\n",
              "   'trans_date': '2020-12-31',\n",
              "   'trans_time': '2020-12-31T12:29:01+00:00',\n",
              "   'amt': 13.36,\n",
              "   'merch_lat': 45.651145,\n",
              "   'merch_long': -113.530343,\n",
              "   'is_fraud': '0',\n",
              "   'cc_num': '3534330126107879',\n",
              "   'user_id': None,\n",
              "   'risk_fact': None},\n",
              "  {'id': 1511,\n",
              "   'created_at': '2025-02-23T13:46:29.601755+00:00',\n",
              "   'merchant': 'Riot General Emporium',\n",
              "   'category': 'misc_pos',\n",
              "   'trans_num': '375ab21156f79cc30224a4a8095ff5df',\n",
              "   'trans_date': '2020-09-01',\n",
              "   'trans_time': '2020-09-01T05:41:42+00:00',\n",
              "   'amt': 15.78,\n",
              "   'merch_lat': 43.859035,\n",
              "   'merch_long': -111.756046,\n",
              "   'is_fraud': '0',\n",
              "   'cc_num': '4334230547694630',\n",
              "   'user_id': None,\n",
              "   'risk_fact': None},\n",
              "  {'id': 1512,\n",
              "   'created_at': '2025-02-23T13:46:29.601755+00:00',\n",
              "   'merchant': 'Riot Marketplace',\n",
              "   'category': 'shopping_pos',\n",
              "   'trans_num': 'cd28e16fa048fd56a7a7fb2cde8a5d30',\n",
              "   'trans_date': '2020-09-06',\n",
              "   'trans_time': '2020-09-06T10:27:07+00:00',\n",
              "   'amt': 6.32,\n",
              "   'merch_lat': 43.475164,\n",
              "   'merch_long': -111.136948,\n",
              "   'is_fraud': '0',\n",
              "   'cc_num': '4334230547694630',\n",
              "   'user_id': None,\n",
              "   'risk_fact': None},\n",
              "  {'id': 1513,\n",
              "   'created_at': '2025-02-23T13:46:29.601755+00:00',\n",
              "   'merchant': 'Riot Online Shop',\n",
              "   'category': 'shopping_net',\n",
              "   'trans_num': '5035c9fa60cb8bada114314efbb07267',\n",
              "   'trans_date': '2020-12-12',\n",
              "   'trans_time': '2020-12-12T01:11:48+00:00',\n",
              "   'amt': 1.08,\n",
              "   'merch_lat': 42.807109,\n",
              "   'merch_long': -111.361367,\n",
              "   'is_fraud': '0',\n",
              "   'cc_num': '4334230547694630',\n",
              "   'user_id': None,\n",
              "   'risk_fact': None},\n",
              "  {'id': 1514,\n",
              "   'created_at': '2025-02-23T13:46:29.601755+00:00',\n",
              "   'merchant': 'Riot Fuel Express',\n",
              "   'category': 'gas_transport',\n",
              "   'trans_num': '9d057a52b89764d1c11972ba1e5f226c',\n",
              "   'trans_date': '2020-12-17',\n",
              "   'trans_time': '2020-12-17T02:07:46+00:00',\n",
              "   'amt': 62.52,\n",
              "   'merch_lat': 39.778624,\n",
              "   'merch_long': -76.843285,\n",
              "   'is_fraud': '0',\n",
              "   'cc_num': '4334230547694630',\n",
              "   'user_id': None,\n",
              "   'risk_fact': None},\n",
              "  {'id': 1515,\n",
              "   'created_at': '2025-02-23T13:46:29.601755+00:00',\n",
              "   'merchant': 'Riot Wellness',\n",
              "   'category': 'health_fitness',\n",
              "   'trans_num': '1fb60d2e55854da6fc7ba5a25687f189',\n",
              "   'trans_date': '2020-12-21',\n",
              "   'trans_time': '2020-12-21T15:48:21+00:00',\n",
              "   'amt': 17.05,\n",
              "   'merch_lat': 43.275048,\n",
              "   'merch_long': -110.28553,\n",
              "   'is_fraud': '0',\n",
              "   'cc_num': '4334230547694630',\n",
              "   'user_id': None,\n",
              "   'risk_fact': None},\n",
              "  {'id': 1516,\n",
              "   'created_at': '2025-02-23T13:46:29.601755+00:00',\n",
              "   'merchant': 'Riot General Depot',\n",
              "   'category': 'misc_pos',\n",
              "   'trans_num': '3279cf7a89df76459237dbe8b5627e30',\n",
              "   'trans_date': '2020-07-07',\n",
              "   'trans_time': '2020-07-07T12:09:01+00:00',\n",
              "   'amt': 193.51,\n",
              "   'merch_lat': 40.590841,\n",
              "   'merch_long': -80.76443,\n",
              "   'is_fraud': '0',\n",
              "   'cc_num': '4512828414983801773',\n",
              "   'user_id': None,\n",
              "   'risk_fact': None},\n",
              "  {'id': 1517,\n",
              "   'created_at': '2025-02-23T13:46:29.601755+00:00',\n",
              "   'merchant': 'Riot Gas Transit',\n",
              "   'category': 'gas_transport',\n",
              "   'trans_num': '44e33b36f8b80f1cd59351ddf4a08174',\n",
              "   'trans_date': '2020-07-26',\n",
              "   'trans_time': '2020-07-26T01:03:06+00:00',\n",
              "   'amt': 53.39,\n",
              "   'merch_lat': 40.538883,\n",
              "   'merch_long': -79.134963,\n",
              "   'is_fraud': '0',\n",
              "   'cc_num': '4512828414983801773',\n",
              "   'user_id': None,\n",
              "   'risk_fact': None},\n",
              "  {'id': 1518,\n",
              "   'created_at': '2025-02-23T13:46:29.601755+00:00',\n",
              "   'merchant': 'Riot Digital Market',\n",
              "   'category': 'shopping_net',\n",
              "   'trans_num': 'bf2a0e6113cc13125cccbf806e404fd9',\n",
              "   'trans_date': '2020-08-29',\n",
              "   'trans_time': '2020-08-29T12:19:32+00:00',\n",
              "   'amt': 1.58,\n",
              "   'merch_lat': 40.118677,\n",
              "   'merch_long': -80.060478,\n",
              "   'is_fraud': '0',\n",
              "   'cc_num': '4512828414983801773',\n",
              "   'user_id': None,\n",
              "   'risk_fact': None},\n",
              "  {'id': 1519,\n",
              "   'created_at': '2025-02-23T13:46:29.601755+00:00',\n",
              "   'merchant': 'Riot Home Interiors',\n",
              "   'category': ' Jakubowski and Littel home',\n",
              "   'trans_num': 'ee9042fb325630556a42affd3a7d45ef',\n",
              "   'trans_date': '2020-09-06',\n",
              "   'trans_time': '2020-09-06T13:07:48+00:00',\n",
              "   'amt': 66.88,\n",
              "   'merch_lat': 39.294433,\n",
              "   'merch_long': -80.650978,\n",
              "   'is_fraud': '0',\n",
              "   'cc_num': '4512828414983801773',\n",
              "   'user_id': None,\n",
              "   'risk_fact': None},\n",
              "  {'id': 1520,\n",
              "   'created_at': '2025-02-23T13:46:29.601755+00:00',\n",
              "   'merchant': 'Riot Family Mart',\n",
              "   'category': 'kids_pets',\n",
              "   'trans_num': '00bac174f13f10c94a86ea304eeb0fdc',\n",
              "   'trans_date': '2020-12-20',\n",
              "   'trans_time': '2020-12-20T17:29:56+00:00',\n",
              "   'amt': 18.71,\n",
              "   'merch_lat': 40.414023,\n",
              "   'merch_long': -80.149137,\n",
              "   'is_fraud': '0',\n",
              "   'cc_num': '4512828414983801773',\n",
              "   'user_id': None,\n",
              "   'risk_fact': None},\n",
              "  {'id': 1521,\n",
              "   'created_at': '2025-02-23T13:46:29.601755+00:00',\n",
              "   'merchant': 'Riot Shop Direct',\n",
              "   'category': 'shopping_pos',\n",
              "   'trans_num': 'c2ae578f46b910326c774d1f8a2d20e0',\n",
              "   'trans_date': '2020-07-15',\n",
              "   'trans_time': '2020-07-15T19:31:49+00:00',\n",
              "   'amt': 41.28,\n",
              "   'merch_lat': 45.008408,\n",
              "   'merch_long': -85.664944,\n",
              "   'is_fraud': '0',\n",
              "   'cc_num': '571365235126',\n",
              "   'user_id': None,\n",
              "   'risk_fact': None},\n",
              "  {'id': 1522,\n",
              "   'created_at': '2025-02-23T13:46:29.601755+00:00',\n",
              "   'merchant': 'Riot Energy Logistics',\n",
              "   'category': 'gas_transport',\n",
              "   'trans_num': '8f22ae8051c91f58e1c629694097c94f',\n",
              "   'trans_date': '2020-08-23',\n",
              "   'trans_time': '2020-08-23T07:14:31+00:00',\n",
              "   'amt': 78.69,\n",
              "   'merch_lat': 45.089551,\n",
              "   'merch_long': -86.255237,\n",
              "   'is_fraud': '0',\n",
              "   'cc_num': '571365235126',\n",
              "   'user_id': None,\n",
              "   'risk_fact': None},\n",
              "  {'id': 1523,\n",
              "   'created_at': '2025-02-23T13:46:29.601755+00:00',\n",
              "   'merchant': 'Riot Pet & Play',\n",
              "   'category': 'kids_pets',\n",
              "   'trans_num': '7525d965350455f7422f3071dd015ac7',\n",
              "   'trans_date': '2020-10-09',\n",
              "   'trans_time': '2020-10-09T21:52:22+00:00',\n",
              "   'amt': 6.18,\n",
              "   'merch_lat': 44.577043,\n",
              "   'merch_long': -85.382065,\n",
              "   'is_fraud': '0',\n",
              "   'cc_num': '571365235126',\n",
              "   'user_id': None,\n",
              "   'risk_fact': None},\n",
              "  {'id': 1524,\n",
              "   'created_at': '2025-02-23T13:46:29.601755+00:00',\n",
              "   'merchant': 'Riot Family Pets',\n",
              "   'category': 'kids_pets',\n",
              "   'trans_num': 'a0b2dc2ba33ac56f5922ad557ef5ea36',\n",
              "   'trans_date': '2020-11-17',\n",
              "   'trans_time': '2020-11-17T21:29:30+00:00',\n",
              "   'amt': 28.99,\n",
              "   'merch_lat': 44.434447,\n",
              "   'merch_long': -86.191018,\n",
              "   'is_fraud': '0',\n",
              "   'cc_num': '571365235126',\n",
              "   'user_id': None,\n",
              "   'risk_fact': None},\n",
              "  {'id': 1525,\n",
              "   'created_at': '2025-02-23T13:46:29.601755+00:00',\n",
              "   'merchant': 'Riot Adventures',\n",
              "   'category': 'travel',\n",
              "   'trans_num': '88b103054304f8af58f92be5d3236dd8',\n",
              "   'trans_date': '2020-11-30',\n",
              "   'trans_time': '2020-11-30T20:12:00+00:00',\n",
              "   'amt': 4.47,\n",
              "   'merch_lat': 43.916348,\n",
              "   'merch_long': -86.142588,\n",
              "   'is_fraud': '0',\n",
              "   'cc_num': '571365235126',\n",
              "   'user_id': None,\n",
              "   'risk_fact': None}]}"
            ]
          },
          "execution_count": 18,
          "metadata": {},
          "output_type": "execute_result"
        }
      ],
      "source": [
        "from dotenv import load_dotenv\n",
        "from nest_asyncio import apply\n",
        "apply()\n",
        "load_dotenv()\n",
        "\n",
        "from db import reset_db, update_trans, insert_trans, get_cust\n",
        "await reset_db()\n",
        "# await get_cust(\"3502088871723054\")"
      ]
    },
    {
      "cell_type": "code",
      "execution_count": null,
      "metadata": {},
      "outputs": [
        {
          "name": "stdout",
          "output_type": "stream",
          "text": [
            "BALLS \n",
            "No customer found with cc 3502088871723054 to update.\n",
            "Unexpected error while retrieving customer: 'NoneType' object has no attribute 'data'\n"
          ]
        },
        {
          "data": {
            "text/plain": [
              "{'error': 'Internal server error',\n",
              " 'details': \"'NoneType' object has no attribute 'data'\"}"
            ]
          },
          "execution_count": 7,
          "metadata": {},
          "output_type": "execute_result"
        }
      ],
      "source": [
        "# from db import set_locked, get_cust\n",
        "# await set_locked(\"3502088871723054\", \"pending high\")\n",
        "# await get_cust(\"3502088871723054\")"
      ]
    },
    {
      "cell_type": "code",
      "execution_count": null,
      "metadata": {},
      "outputs": [],
      "source": [
        "await update_trans(\"88b103054304f8af58f92be5d3236dd8\", {\"category\": \"electronics\", \"amt\": 129.99, \"risk_fact\": 0.5}) "
      ]
    },
    {
      "cell_type": "code",
      "execution_count": 16,
      "metadata": {},
      "outputs": [
        {
          "ename": "TypeError",
          "evalue": "insert_trans() got an unexpected keyword argument 'risk_factor'",
          "output_type": "error",
          "traceback": [
            "\u001b[0;31m---------------------------------------------------------------------------\u001b[0m",
            "\u001b[0;31mTypeError\u001b[0m                                 Traceback (most recent call last)",
            "Cell \u001b[0;32mIn[16], line 1\u001b[0m\n\u001b[0;32m----> 1\u001b[0m \u001b[38;5;28;01mawait\u001b[39;00m \u001b[43minsert_trans\u001b[49m\u001b[43m(\u001b[49m\n\u001b[1;32m      2\u001b[0m \u001b[43m    \u001b[49m\u001b[43mcc_num\u001b[49m\u001b[38;5;241;43m=\u001b[39;49m\u001b[38;5;124;43m\"\u001b[39;49m\u001b[38;5;124;43m4512828414983801773\u001b[39;49m\u001b[38;5;124;43m\"\u001b[39;49m\u001b[43m,\u001b[49m\n\u001b[1;32m      3\u001b[0m \u001b[43m    \u001b[49m\u001b[43mmerchant\u001b[49m\u001b[38;5;241;43m=\u001b[39;49m\u001b[38;5;124;43m\"\u001b[39;49m\u001b[38;5;124;43mfraud_Altenwerth-Kilback\u001b[39;49m\u001b[38;5;124;43m\"\u001b[39;49m\u001b[43m,\u001b[49m\n\u001b[1;32m      4\u001b[0m \u001b[43m    \u001b[49m\u001b[43mcategory\u001b[49m\u001b[38;5;241;43m=\u001b[39;49m\u001b[38;5;124;43m\"\u001b[39;49m\u001b[38;5;124;43mhome\u001b[39;49m\u001b[38;5;124;43m\"\u001b[39;49m\u001b[43m,\u001b[49m\n\u001b[1;32m      5\u001b[0m \u001b[43m    \u001b[49m\u001b[43mamt\u001b[49m\u001b[38;5;241;43m=\u001b[39;49m\u001b[38;5;241;43m98.23\u001b[39;49m\u001b[43m,\u001b[49m\n\u001b[1;32m      6\u001b[0m \u001b[43m    \u001b[49m\u001b[43mmerch_lat\u001b[49m\u001b[38;5;241;43m=\u001b[39;49m\u001b[38;5;241;43m38.0298\u001b[39;49m\u001b[43m,\u001b[49m\n\u001b[1;32m      7\u001b[0m \u001b[43m    \u001b[49m\u001b[43mmerch_long\u001b[49m\u001b[38;5;241;43m=\u001b[39;49m\u001b[38;5;241;43m-\u001b[39;49m\u001b[38;5;241;43m77.0793\u001b[39;49m\u001b[43m,\u001b[49m\n\u001b[1;32m      8\u001b[0m \u001b[43m    \u001b[49m\u001b[43mis_fraud\u001b[49m\u001b[38;5;241;43m=\u001b[39;49m\u001b[38;5;124;43m\"\u001b[39;49m\u001b[38;5;124;43m0\u001b[39;49m\u001b[38;5;124;43m\"\u001b[39;49m\u001b[43m,\u001b[49m\n\u001b[1;32m      9\u001b[0m \u001b[43m    \u001b[49m\u001b[43mrisk_factor\u001b[49m\u001b[38;5;241;43m=\u001b[39;49m\u001b[38;5;241;43m0.4\u001b[39;49m\u001b[43m,\u001b[49m\n\u001b[1;32m     10\u001b[0m \u001b[43m)\u001b[49m\n",
            "\u001b[0;31mTypeError\u001b[0m: insert_trans() got an unexpected keyword argument 'risk_factor'"
          ]
        }
      ],
      "source": [
        "await insert_trans(\n",
        "    cc_num=\"4512828414983801773\",\n",
        "    merchant=\"fraud_Altenwerth-Kilback\",\n",
        "    category=\"home\",\n",
        "    amt=98.23,\n",
        "    merch_lat=38.0298,\n",
        "    merch_long=-77.0793,\n",
        "    is_fraud=\"0\",\n",
        "    risk_factor=0.4,\n",
        ")"
      ]
    },
    {
      "cell_type": "code",
      "execution_count": 9,
      "metadata": {},
      "outputs": [
        {
          "data": {
            "text/plain": [
              "{'success': 'Updated 1 row(s).',\n",
              " 'data': [{'id': 901,\n",
              "   'created_at': '2025-02-23T10:08:42.739024+00:00',\n",
              "   'merchant': 'Riot Adventures',\n",
              "   'category': 'electronics',\n",
              "   'trans_num': '88b103054304f8af58f92be5d3236dd8',\n",
              "   'trans_date': '2020-11-30',\n",
              "   'trans_time': '2020-11-30T20:12:00+00:00',\n",
              "   'amt': 129.99,\n",
              "   'merch_lat': 43.916348,\n",
              "   'merch_long': -86.142588,\n",
              "   'is_fraud': '0',\n",
              "   'cc_num': '571365235126',\n",
              "   'user_id': None,\n",
              "   'risk_fact': 0.5}]}"
            ]
          },
          "execution_count": 9,
          "metadata": {},
          "output_type": "execute_result"
        }
      ],
      "source": [
        "await update_trans(\"88b103054304f8af58f92be5d3236dd8\", {\"category\": \"electronics\", \"amt\": 129.99, \"risk_fact\": 0.5}) "
      ]
    },
    {
      "cell_type": "code",
      "execution_count": 10,
      "metadata": {},
      "outputs": [
        {
          "name": "stdout",
          "output_type": "stream",
          "text": [
            "Unexpected error while retrieving customer: 'NoneType' object has no attribute 'data'\n"
          ]
        },
        {
          "data": {
            "text/plain": [
              "{'error': 'Internal server error',\n",
              " 'details': \"'NoneType' object has no attribute 'data'\"}"
            ]
          },
          "execution_count": 10,
          "metadata": {},
          "output_type": "execute_result"
        }
      ],
      "source": [
        "await get_cust(\"3502088871723054\")"
      ]
    },
    {
      "cell_type": "code",
      "execution_count": 11,
      "metadata": {},
      "outputs": [
        {
          "name": "stdout",
          "output_type": "stream",
          "text": [
            "BALLS \n",
            "No customer found with cc 3502088871723054 to update.\n"
          ]
        },
        {
          "data": {
            "text/plain": [
              "{'error': 'No customer found with cc 3502088871723054 to update.'}"
            ]
          },
          "execution_count": 11,
          "metadata": {},
          "output_type": "execute_result"
        }
      ],
      "source": [
        "await set_locked(\"3502088871723054\", \"pending high\")"
      ]
    }
  ],
  "metadata": {
    "kernelspec": {
      "display_name": "base",
      "language": "python",
      "name": "python3"
    },
    "language_info": {
      "codemirror_mode": {
        "name": "ipython",
        "version": 3
      },
      "file_extension": ".py",
      "mimetype": "text/x-python",
      "name": "python",
      "nbconvert_exporter": "python",
      "pygments_lexer": "ipython3",
      "version": "3.11.7"
    }
  },
  "nbformat": 4,
  "nbformat_minor": 2
}
