{
  "cells": [
    {
      "cell_type": "code",
      "execution_count": 16,
      "metadata": {},
      "outputs": [],
      "source": [
        "from dotenv import load_dotenv\n",
        "from nest_asyncio import apply\n",
        "apply()\n",
        "load_dotenv()\n",
        "\n",
        "from db import reset_db, update_trans, insert_trans, get_cust\n",
        "# await reset_db()\n",
        "# await get_cust(\"3502088871723054\")"
      ]
    },
    {
      "cell_type": "code",
      "execution_count": null,
      "metadata": {},
      "outputs": [
        {
          "name": "stdout",
          "output_type": "stream",
          "text": [
            "BALLS \n",
            "No customer found with cc 3502088871723054 to update.\n",
            "Unexpected error while retrieving customer: 'NoneType' object has no attribute 'data'\n"
          ]
        },
        {
          "data": {
            "text/plain": [
              "{'error': 'Internal server error',\n",
              " 'details': \"'NoneType' object has no attribute 'data'\"}"
            ]
          },
          "execution_count": 7,
          "metadata": {},
          "output_type": "execute_result"
        }
      ],
      "source": [
        "# from db import set_locked, get_cust\n",
        "# await set_locked(\"3502088871723054\", \"pending high\")\n",
        "# await get_cust(\"3502088871723054\")"
      ]
    },
    {
      "cell_type": "code",
      "execution_count": null,
      "metadata": {},
      "outputs": [],
      "source": []
    },
    {
      "cell_type": "code",
      "execution_count": 19,
      "metadata": {},
      "outputs": [
        {
          "name": "stdout",
          "output_type": "stream",
          "text": [
            "Checking for customer with cc_num: 4512828414983801773\n",
            "Customer query response: data={'id': 88, 'created_at': '2025-02-23T09:44:47.658951+00:00', 'first_name': 'Lisa', 'last_name': 'Lin', 'cc': '4512828414983801773', 'street': '321 Irvine Blvd', 'city': 'Irvine', 'state': 'CA', 'zip': 92618, 'lat': 33.6839, 'long': -117.7947, 'job': 'Frontend Engineer', 'dob': '2004-05-24', 'gender': 'F', 'is_locked': 'no'} count=None\n",
            "Customer found, user_id: 88\n",
            "Inserting new transaction: {'trans_num': '4d93a1ee-c772-42f2-92d2-4910d9bf4351', 'trans_date': '2025-02-23', 'trans_time': '2025-02-23T06:43:32.413689', 'merchant': 'fraud_Altenwerth-Kilback', 'category': 'home', 'amt': 98.23, 'merch_lat': 38.0298, 'merch_long': -77.0793, 'is_fraud': '2', 'cc_num': '4512828414983801773', 'user_id': 88}\n",
            "Insert response: data=[{'id': 1267, 'created_at': '2025-02-23T11:43:32.483002+00:00', 'merchant': 'fraud_Altenwerth-Kilback', 'category': 'home', 'trans_num': '4d93a1ee-c772-42f2-92d2-4910d9bf4351', 'trans_date': '2025-02-23', 'trans_time': '2025-02-23T06:43:32.413689+00:00', 'amt': 98.23, 'merch_lat': 38.0298, 'merch_long': -77.0793, 'is_fraud': '2', 'cc_num': '4512828414983801773', 'user_id': 88, 'risk_fact': None}] count=None\n",
            "Transaction inserted successfully: {'trans_num': '4d93a1ee-c772-42f2-92d2-4910d9bf4351', 'trans_date': '2025-02-23', 'trans_time': '2025-02-23T06:43:32.413689', 'merchant': 'fraud_Altenwerth-Kilback', 'category': 'home', 'amt': 98.23, 'merch_lat': 38.0298, 'merch_long': -77.0793, 'is_fraud': '2', 'cc_num': '4512828414983801773', 'user_id': 88}\n"
          ]
        },
        {
          "data": {
            "text/plain": [
              "{'success': \"Transaction inserted successfully: {'trans_num': '4d93a1ee-c772-42f2-92d2-4910d9bf4351', 'trans_date': '2025-02-23', 'trans_time': '2025-02-23T06:43:32.413689', 'merchant': 'fraud_Altenwerth-Kilback', 'category': 'home', 'amt': 98.23, 'merch_lat': 38.0298, 'merch_long': -77.0793, 'is_fraud': '2', 'cc_num': '4512828414983801773', 'user_id': 88}\",\n",
              " 'data': [{'id': 1267,\n",
              "   'created_at': '2025-02-23T11:43:32.483002+00:00',\n",
              "   'merchant': 'fraud_Altenwerth-Kilback',\n",
              "   'category': 'home',\n",
              "   'trans_num': '4d93a1ee-c772-42f2-92d2-4910d9bf4351',\n",
              "   'trans_date': '2025-02-23',\n",
              "   'trans_time': '2025-02-23T06:43:32.413689+00:00',\n",
              "   'amt': 98.23,\n",
              "   'merch_lat': 38.0298,\n",
              "   'merch_long': -77.0793,\n",
              "   'is_fraud': '2',\n",
              "   'cc_num': '4512828414983801773',\n",
              "   'user_id': 88,\n",
              "   'risk_fact': None}]}"
            ]
          },
          "execution_count": 19,
          "metadata": {},
          "output_type": "execute_result"
        }
      ],
      "source": [
        "await insert_trans(\n",
        "    cc_num=\"4512828414983801773\",\n",
        "    merchant=\"fraud_Altenwerth-Kilback\",\n",
        "    category=\"home\",\n",
        "    amt=98.23,\n",
        "    merch_lat=38.0298,\n",
        "    merch_long=-77.0793,\n",
        "    is_fraud=\"2\"\n",
        ")"
      ]
    },
    {
      "cell_type": "code",
      "execution_count": 9,
      "metadata": {},
      "outputs": [
        {
          "data": {
            "text/plain": [
              "{'success': 'Updated 1 row(s).',\n",
              " 'data': [{'id': 901,\n",
              "   'created_at': '2025-02-23T10:08:42.739024+00:00',\n",
              "   'merchant': 'Riot Adventures',\n",
              "   'category': 'electronics',\n",
              "   'trans_num': '88b103054304f8af58f92be5d3236dd8',\n",
              "   'trans_date': '2020-11-30',\n",
              "   'trans_time': '2020-11-30T20:12:00+00:00',\n",
              "   'amt': 129.99,\n",
              "   'merch_lat': 43.916348,\n",
              "   'merch_long': -86.142588,\n",
              "   'is_fraud': '0',\n",
              "   'cc_num': '571365235126',\n",
              "   'user_id': None,\n",
              "   'risk_fact': 0.5}]}"
            ]
          },
          "execution_count": 9,
          "metadata": {},
          "output_type": "execute_result"
        }
      ],
      "source": [
        "await update_trans(\"88b103054304f8af58f92be5d3236dd8\", {\"category\": \"electronics\", \"amt\": 129.99, \"risk_fact\": 0.5}) "
      ]
    },
    {
      "cell_type": "code",
      "execution_count": 10,
      "metadata": {},
      "outputs": [
        {
          "name": "stdout",
          "output_type": "stream",
          "text": [
            "Unexpected error while retrieving customer: 'NoneType' object has no attribute 'data'\n"
          ]
        },
        {
          "data": {
            "text/plain": [
              "{'error': 'Internal server error',\n",
              " 'details': \"'NoneType' object has no attribute 'data'\"}"
            ]
          },
          "execution_count": 10,
          "metadata": {},
          "output_type": "execute_result"
        }
      ],
      "source": [
        "await get_cust(\"3502088871723054\")"
      ]
    },
    {
      "cell_type": "code",
      "execution_count": 11,
      "metadata": {},
      "outputs": [
        {
          "name": "stdout",
          "output_type": "stream",
          "text": [
            "BALLS \n",
            "No customer found with cc 3502088871723054 to update.\n"
          ]
        },
        {
          "data": {
            "text/plain": [
              "{'error': 'No customer found with cc 3502088871723054 to update.'}"
            ]
          },
          "execution_count": 11,
          "metadata": {},
          "output_type": "execute_result"
        }
      ],
      "source": [
        "await set_locked(\"3502088871723054\", \"pending high\")"
      ]
    }
  ],
  "metadata": {
    "kernelspec": {
      "display_name": "base",
      "language": "python",
      "name": "python3"
    },
    "language_info": {
      "codemirror_mode": {
        "name": "ipython",
        "version": 3
      },
      "file_extension": ".py",
      "mimetype": "text/x-python",
      "name": "python",
      "nbconvert_exporter": "python",
      "pygments_lexer": "ipython3",
      "version": "3.12.2"
    }
  },
  "nbformat": 4,
  "nbformat_minor": 2
}
