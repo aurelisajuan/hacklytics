{
  "cells": [
    {
      "cell_type": "code",
      "execution_count": 2,
      "metadata": {},
      "outputs": [
        {
          "name": "stdout",
          "output_type": "stream",
          "text": [
            "Clearing transactions table...\n",
            "Transactions table cleared: []\n",
            "Loading data from base.csv...\n",
            "Exception in reset_database: [Errno 2] No such file or directory: './experiments/sample_data/base.csv'\n"
          ]
        },
        {
          "data": {
            "text/plain": [
              "{'error': \"Exception in reset_database: [Errno 2] No such file or directory: './experiments/sample_data/base.csv'\"}"
            ]
          },
          "execution_count": 2,
          "metadata": {},
          "output_type": "execute_result"
        }
      ],
      "source": [
        "from dotenv import load_dotenv\n",
        "from nest_asyncio import apply\n",
        "apply()\n",
        "load_dotenv()\n",
        "\n",
        "from db import reset_db\n",
        "await reset_db()\n",
        "# await get_cust(\"3502088871723054\")"
      ]
    },
    {
      "cell_type": "code",
      "execution_count": 3,
      "metadata": {},
      "outputs": [
        {
          "name": "stdout",
          "output_type": "stream",
          "text": [
            "BALLS \n",
            "No customer found with cc 3502088871723054 to update.\n",
            "Unexpected error while retrieving customer: 'NoneType' object has no attribute 'data'\n"
          ]
        },
        {
          "data": {
            "text/plain": [
              "{'error': 'Internal server error',\n",
              " 'details': \"'NoneType' object has no attribute 'data'\"}"
            ]
          },
          "execution_count": 3,
          "metadata": {},
          "output_type": "execute_result"
        }
      ],
      "source": [
        "from db import set_locked, get_cust\n",
        "await set_locked(\"3502088871723054\", \"pending high\")\n",
        "await get_cust(\"3502088871723054\")"
      ]
    },
    {
      "cell_type": "code",
      "execution_count": 4,
      "metadata": {},
      "outputs": [
        {
          "ename": "NameError",
          "evalue": "name 'insert_trans' is not defined",
          "output_type": "error",
          "traceback": [
            "\u001b[0;31m---------------------------------------------------------------------------\u001b[0m",
            "\u001b[0;31mNameError\u001b[0m                                 Traceback (most recent call last)",
            "Cell \u001b[0;32mIn[4], line 1\u001b[0m\n\u001b[0;32m----> 1\u001b[0m \u001b[38;5;28;01mawait\u001b[39;00m \u001b[43minsert_trans\u001b[49m(\n\u001b[1;32m      2\u001b[0m     cc_num\u001b[38;5;241m=\u001b[39m\u001b[38;5;124m\"\u001b[39m\u001b[38;5;124m3502088871723054\u001b[39m\u001b[38;5;124m\"\u001b[39m,\n\u001b[1;32m      3\u001b[0m     merchant\u001b[38;5;241m=\u001b[39m\u001b[38;5;124m\"\u001b[39m\u001b[38;5;124mfraud_Altenwerth-Kilback\u001b[39m\u001b[38;5;124m\"\u001b[39m,\n\u001b[1;32m      4\u001b[0m     category\u001b[38;5;241m=\u001b[39m\u001b[38;5;124m\"\u001b[39m\u001b[38;5;124mhome\u001b[39m\u001b[38;5;124m\"\u001b[39m,\n\u001b[1;32m      5\u001b[0m     amt\u001b[38;5;241m=\u001b[39m\u001b[38;5;241m27.12\u001b[39m,\n\u001b[1;32m      6\u001b[0m     merch_lat\u001b[38;5;241m=\u001b[39m\u001b[38;5;241m38.0298\u001b[39m,\n\u001b[1;32m      7\u001b[0m     merch_long\u001b[38;5;241m=\u001b[39m\u001b[38;5;241m-\u001b[39m\u001b[38;5;241m77.0793\u001b[39m,\n\u001b[1;32m      8\u001b[0m     is_fraud\u001b[38;5;241m=\u001b[39m\u001b[38;5;124m\"\u001b[39m\u001b[38;5;124m2\u001b[39m\u001b[38;5;124m\"\u001b[39m\n\u001b[1;32m      9\u001b[0m )\n",
            "\u001b[0;31mNameError\u001b[0m: name 'insert_trans' is not defined"
          ]
        }
      ],
      "source": [
        "await insert_trans(\n",
        "    cc_num=\"3502088871723054\",\n",
        "    merchant=\"fraud_Altenwerth-Kilback\",\n",
        "    category=\"home\",\n",
        "    amt=27.12,\n",
        "    merch_lat=38.0298,\n",
        "    merch_long=-77.0793,\n",
        "    is_fraud=\"2\"\n",
        ")"
      ]
    },
    {
      "cell_type": "code",
      "execution_count": 8,
      "metadata": {},
      "outputs": [
        {
          "data": {
            "text/plain": [
              "{'success': 'Updated 1 row(s).',\n",
              " 'data': [{'id': 594,\n",
              "   'created_at': '2025-02-23T09:03:30.276073+00:00',\n",
              "   'merchant': 'Riot Adventures',\n",
              "   'category': 'electronics',\n",
              "   'trans_num': '88b103054304f8af58f92be5d3236dd8',\n",
              "   'trans_date': '2020-11-30',\n",
              "   'trans_time': '2020-11-30T20:12:00+00:00',\n",
              "   'amt': 129.99,\n",
              "   'merch_lat': 43.916348,\n",
              "   'merch_long': -86.142588,\n",
              "   'is_fraud': '0',\n",
              "   'cc_num': '571365235126',\n",
              "   'user_id': None}]}"
            ]
          },
          "execution_count": 8,
          "metadata": {},
          "output_type": "execute_result"
        }
      ],
      "source": [
        "await update_trans(\"88b103054304f8af58f92be5d3236dd8\", {\"category\": \"electronics\", \"amt\": 129.99}) "
      ]
    },
    {
      "cell_type": "code",
      "execution_count": 9,
      "metadata": {},
      "outputs": [
        {
          "name": "stdout",
          "output_type": "stream",
          "text": [
            "Customer found: {'id': 81, 'created_at': '2025-02-22T22:21:44.756018+00:00', 'first_name': 'Bill', 'last_name': 'Zhang', 'cc': '3502088871723054', 'street': '123 San Jose Ave', 'city': 'San Jose', 'state': 'CA', 'zip': 95112, 'lat': 37.3382, 'long': -121.8863, 'job': 'AI Engineer', 'dob': '2002-09-27', 'gender': 'M', 'is_locked': 'pending high'}\n"
          ]
        },
        {
          "data": {
            "text/plain": [
              "{'success': True,\n",
              " 'customer': {'id': 81,\n",
              "  'created_at': '2025-02-22T22:21:44.756018+00:00',\n",
              "  'first_name': 'Bill',\n",
              "  'last_name': 'Zhang',\n",
              "  'cc': '3502088871723054',\n",
              "  'street': '123 San Jose Ave',\n",
              "  'city': 'San Jose',\n",
              "  'state': 'CA',\n",
              "  'zip': 95112,\n",
              "  'lat': 37.3382,\n",
              "  'long': -121.8863,\n",
              "  'job': 'AI Engineer',\n",
              "  'dob': '2002-09-27',\n",
              "  'gender': 'M',\n",
              "  'is_locked': 'pending high'}}"
            ]
          },
          "execution_count": 9,
          "metadata": {},
          "output_type": "execute_result"
        }
      ],
      "source": [
        "await get_cust(\"3502088871723054\")"
      ]
    },
    {
      "cell_type": "code",
      "execution_count": 10,
      "metadata": {},
      "outputs": [
        {
          "name": "stdout",
          "output_type": "stream",
          "text": [
            "Updated locked status for customer with cc 3502088871723054.\n"
          ]
        },
        {
          "data": {
            "text/plain": [
              "{'success': 'Updated locked status for customer with cc 3502088871723054.',\n",
              " 'data': [{'id': 81,\n",
              "   'created_at': '2025-02-22T22:21:44.756018+00:00',\n",
              "   'first_name': 'Bill',\n",
              "   'last_name': 'Zhang',\n",
              "   'cc': '3502088871723054',\n",
              "   'street': '123 San Jose Ave',\n",
              "   'city': 'San Jose',\n",
              "   'state': 'CA',\n",
              "   'zip': 95112,\n",
              "   'lat': 37.3382,\n",
              "   'long': -121.8863,\n",
              "   'job': 'AI Engineer',\n",
              "   'dob': '2002-09-27',\n",
              "   'gender': 'M',\n",
              "   'is_locked': 'pending high'}]}"
            ]
          },
          "execution_count": 10,
          "metadata": {},
          "output_type": "execute_result"
        }
      ],
      "source": [
        "await set_locked(\"3502088871723054\", \"pending high\")"
      ]
    }
  ],
  "metadata": {
    "kernelspec": {
      "display_name": "base",
      "language": "python",
      "name": "python3"
    },
    "language_info": {
      "codemirror_mode": {
        "name": "ipython",
        "version": 3
      },
      "file_extension": ".py",
      "mimetype": "text/x-python",
      "name": "python",
      "nbconvert_exporter": "python",
      "pygments_lexer": "ipython3",
      "version": "3.12.2"
    }
  },
  "nbformat": 4,
  "nbformat_minor": 2
}
