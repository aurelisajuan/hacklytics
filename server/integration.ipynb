{
 "cells": [
  {
   "cell_type": "code",
   "execution_count": null,
   "metadata": {},
   "outputs": [
    {
     "name": "stdout",
     "output_type": "stream",
     "text": [
      "Clearing transactions table...\n",
      "Transactions table cleared: [{'id': 512, 'created_at': '2025-02-23T08:58:30.74059+00:00', 'merchant': 'Riot Home Living', 'category': 'home', 'trans_num': 'd3e44a66bc28f5d27be8607559b068af', 'trans_date': '2020-06-22', 'trans_time': '2020-06-22T13:31:01+00:00', 'amt': 79.4, 'merch_lat': 44.332835, 'merch_long': -108.234625, 'is_fraud': '0', 'cc_num': '3534330126107879', 'user_id': None}, {'id': 513, 'created_at': '2025-02-23T08:58:30.74059+00:00', 'merchant': 'Riot Retail Group', 'category': 'shopping_pos', 'trans_num': 'f80ff18d7668170a0dc775c5342cbbac', 'trans_date': '2020-07-29', 'trans_time': '2020-07-29T07:58:56+00:00', 'amt': 118.23, 'merch_lat': 45.744008, 'merch_long': -109.124371, 'is_fraud': '0', 'cc_num': '3534330126107879', 'user_id': None}, {'id': 514, 'created_at': '2025-02-23T08:58:30.74059+00:00', 'merchant': 'Riot Eats', 'category': 'food_dining', 'trans_num': '4f2a347f29d9de1355bf805831ddfae0', 'trans_date': '2020-09-29', 'trans_time': '2020-09-29T18:58:24+00:00', 'amt': 55.95, 'merch_lat': 44.682822, 'merch_long': -108.575063, 'is_fraud': '0', 'cc_num': '3534330126107879', 'user_id': None}, {'id': 515, 'created_at': '2025-02-23T08:58:30.74059+00:00', 'merchant': 'Riot Entertainment', 'category': 'entertainment', 'trans_num': 'c6a333ba04412930696e2fb63c12a8ed', 'trans_date': '2020-12-08', 'trans_time': '2020-12-08T21:52:03+00:00', 'amt': 72.13, 'merch_lat': 45.559865, 'merch_long': -109.383368, 'is_fraud': '0', 'cc_num': '3534330126107879', 'user_id': None}, {'id': 516, 'created_at': '2025-02-23T08:58:30.74059+00:00', 'merchant': 'Riot General Store', 'category': 'misc_pos', 'trans_num': '4c74c993e2795a51daf1cc4107850cad', 'trans_date': '2020-12-31', 'trans_time': '2020-12-31T12:29:01+00:00', 'amt': 13.36, 'merch_lat': 45.651145, 'merch_long': -113.530343, 'is_fraud': '0', 'cc_num': '4292902571056973207', 'user_id': None}, {'id': 517, 'created_at': '2025-02-23T08:58:30.74059+00:00', 'merchant': 'Riot General Emporium', 'category': 'misc_pos', 'trans_num': '375ab21156f79cc30224a4a8095ff5df', 'trans_date': '2020-09-01', 'trans_time': '2020-09-01T05:41:42+00:00', 'amt': 15.78, 'merch_lat': 43.859035, 'merch_long': -111.756046, 'is_fraud': '0', 'cc_num': '4334230547694630', 'user_id': None}, {'id': 518, 'created_at': '2025-02-23T08:58:30.74059+00:00', 'merchant': 'Riot Marketplace', 'category': 'shopping_pos', 'trans_num': 'cd28e16fa048fd56a7a7fb2cde8a5d30', 'trans_date': '2020-09-06', 'trans_time': '2020-09-06T10:27:07+00:00', 'amt': 6.32, 'merch_lat': 43.475164, 'merch_long': -111.136948, 'is_fraud': '0', 'cc_num': '4334230547694630', 'user_id': None}, {'id': 519, 'created_at': '2025-02-23T08:58:30.74059+00:00', 'merchant': 'Riot Online Shop', 'category': 'shopping_net', 'trans_num': '5035c9fa60cb8bada114314efbb07267', 'trans_date': '2020-12-12', 'trans_time': '2020-12-12T01:11:48+00:00', 'amt': 1.08, 'merch_lat': 42.807109, 'merch_long': -111.361367, 'is_fraud': '0', 'cc_num': '4334230547694630', 'user_id': None}, {'id': 520, 'created_at': '2025-02-23T08:58:30.74059+00:00', 'merchant': 'Riot Fuel Express', 'category': 'gas_transport', 'trans_num': '9d057a52b89764d1c11972ba1e5f226c', 'trans_date': '2020-12-17', 'trans_time': '2020-12-17T02:07:46+00:00', 'amt': 62.52, 'merch_lat': 39.778624, 'merch_long': -76.843285, 'is_fraud': '0', 'cc_num': '3502088871723054', 'user_id': None}, {'id': 521, 'created_at': '2025-02-23T08:58:30.74059+00:00', 'merchant': 'Riot Wellness', 'category': 'health_fitness', 'trans_num': '1fb60d2e55854da6fc7ba5a25687f189', 'trans_date': '2020-12-21', 'trans_time': '2020-12-21T15:48:21+00:00', 'amt': 17.05, 'merch_lat': 43.275048, 'merch_long': -110.28553, 'is_fraud': '0', 'cc_num': '4334230547694630', 'user_id': None}, {'id': 522, 'created_at': '2025-02-23T08:58:30.74059+00:00', 'merchant': 'Riot General Depot', 'category': 'misc_pos', 'trans_num': '3279cf7a89df76459237dbe8b5627e30', 'trans_date': '2020-07-07', 'trans_time': '2020-07-07T12:09:01+00:00', 'amt': 193.51, 'merch_lat': 40.590841, 'merch_long': -80.76443, 'is_fraud': '0', 'cc_num': '4512828414983801773', 'user_id': None}, {'id': 523, 'created_at': '2025-02-23T08:58:30.74059+00:00', 'merchant': 'Riot Gas Transit', 'category': 'gas_transport', 'trans_num': '44e33b36f8b80f1cd59351ddf4a08174', 'trans_date': '2020-07-26', 'trans_time': '2020-07-26T01:03:06+00:00', 'amt': 53.39, 'merch_lat': 40.538883, 'merch_long': -79.134963, 'is_fraud': '0', 'cc_num': '4512828414983801773', 'user_id': None}, {'id': 524, 'created_at': '2025-02-23T08:58:30.74059+00:00', 'merchant': 'Riot Digital Market', 'category': 'shopping_net', 'trans_num': 'bf2a0e6113cc13125cccbf806e404fd9', 'trans_date': '2020-08-29', 'trans_time': '2020-08-29T12:19:32+00:00', 'amt': 1.58, 'merch_lat': 40.118677, 'merch_long': -80.060478, 'is_fraud': '0', 'cc_num': '4512828414983801773', 'user_id': None}, {'id': 525, 'created_at': '2025-02-23T08:58:30.74059+00:00', 'merchant': 'Riot Home Interiors', 'category': ' Jakubowski and Littel home', 'trans_num': 'ee9042fb325630556a42affd3a7d45ef', 'trans_date': '2020-09-06', 'trans_time': '2020-09-06T13:07:48+00:00', 'amt': 66.88, 'merch_lat': 39.294433, 'merch_long': -80.650978, 'is_fraud': '0', 'cc_num': '4512828414983801773', 'user_id': None}, {'id': 526, 'created_at': '2025-02-23T08:58:30.74059+00:00', 'merchant': 'Riot Family Mart', 'category': 'kids_pets', 'trans_num': '00bac174f13f10c94a86ea304eeb0fdc', 'trans_date': '2020-12-20', 'trans_time': '2020-12-20T17:29:56+00:00', 'amt': 18.71, 'merch_lat': 40.414023, 'merch_long': -80.149137, 'is_fraud': '0', 'cc_num': '4512828414983801773', 'user_id': None}, {'id': 527, 'created_at': '2025-02-23T08:58:30.74059+00:00', 'merchant': 'Riot Shop Direct', 'category': 'shopping_pos', 'trans_num': 'c2ae578f46b910326c774d1f8a2d20e0', 'trans_date': '2020-07-15', 'trans_time': '2020-07-15T19:31:49+00:00', 'amt': 41.28, 'merch_lat': 45.008408, 'merch_long': -85.664944, 'is_fraud': '0', 'cc_num': '571365235126', 'user_id': None}, {'id': 528, 'created_at': '2025-02-23T08:58:30.74059+00:00', 'merchant': 'Riot Energy Logistics', 'category': 'gas_transport', 'trans_num': '8f22ae8051c91f58e1c629694097c94f', 'trans_date': '2020-08-23', 'trans_time': '2020-08-23T07:14:31+00:00', 'amt': 78.69, 'merch_lat': 45.089551, 'merch_long': -86.255237, 'is_fraud': '0', 'cc_num': '571365235126', 'user_id': None}, {'id': 529, 'created_at': '2025-02-23T08:58:30.74059+00:00', 'merchant': 'Riot Pet & Play', 'category': 'kids_pets', 'trans_num': '7525d965350455f7422f3071dd015ac7', 'trans_date': '2020-10-09', 'trans_time': '2020-10-09T21:52:22+00:00', 'amt': 6.18, 'merch_lat': 44.577043, 'merch_long': -85.382065, 'is_fraud': '0', 'cc_num': '571365235126', 'user_id': None}, {'id': 530, 'created_at': '2025-02-23T08:58:30.74059+00:00', 'merchant': 'Riot Family Pets', 'category': 'kids_pets', 'trans_num': 'a0b2dc2ba33ac56f5922ad557ef5ea36', 'trans_date': '2020-11-17', 'trans_time': '2020-11-17T21:29:30+00:00', 'amt': 28.99, 'merch_lat': 44.434447, 'merch_long': -86.191018, 'is_fraud': '0', 'cc_num': '571365235126', 'user_id': None}, {'id': 532, 'created_at': '2025-02-23T08:58:31.419538+00:00', 'merchant': 'fraud_Altenwerth-Kilback', 'category': 'home', 'trans_num': '1e76e60e-0523-4458-b303-24cd1a2b5e22', 'trans_date': '2025-02-23', 'trans_time': '2025-02-23T03:58:31.223102+00:00', 'amt': 27.12, 'merch_lat': 38.0298, 'merch_long': -77.0793, 'is_fraud': '2', 'cc_num': '3502088871723054', 'user_id': 81}, {'id': 531, 'created_at': '2025-02-23T08:58:30.74059+00:00', 'merchant': 'Riot Adventures', 'category': 'electronics', 'trans_num': '88b103054304f8af58f92be5d3236dd8', 'trans_date': '2020-11-30', 'trans_time': '2020-11-30T20:12:00+00:00', 'amt': 129.99, 'merch_lat': 43.916348, 'merch_long': -86.142588, 'is_fraud': '0', 'cc_num': '571365235126', 'user_id': None}]\n",
      "Loading data from base.csv...\n",
      "CSV schema (field names): ['trans_date_trans_time', 'cc_num', 'merchant', 'category', 'amt', 'first', 'last', 'gender', 'street', 'city', 'state', 'zip', 'lat', 'long', 'city_pop', 'job', 'dob', 'trans_num', 'unix_time', 'merch_lat', 'merch_long', 'is_fraud']\n",
      "Inserting data into transactions table...\n",
      "Database reset successfully; base.csv data loaded.\n"
     ]
    },
    {
     "data": {
      "text/plain": [
       "{'success': 'Database reset successfully; base.csv data loaded.',\n",
       " 'data': [{'id': 451,\n",
       "   'created_at': '2025-02-23T08:55:54.542968+00:00',\n",
       "   'merchant': 'Riot Home Living',\n",
       "   'category': 'home',\n",
       "   'trans_num': 'd3e44a66bc28f5d27be8607559b068af',\n",
       "   'trans_date': '2020-06-22',\n",
       "   'trans_time': '2020-06-22T13:31:01+00:00',\n",
       "   'amt': 79.4,\n",
       "   'merch_lat': 44.332835,\n",
       "   'merch_long': -108.234625,\n",
       "   'is_fraud': '0',\n",
       "   'cc_num': '3534330126107879',\n",
       "   'user_id': None},\n",
       "  {'id': 452,\n",
       "   'created_at': '2025-02-23T08:55:54.542968+00:00',\n",
       "   'merchant': 'Riot Retail Group',\n",
       "   'category': 'shopping_pos',\n",
       "   'trans_num': 'f80ff18d7668170a0dc775c5342cbbac',\n",
       "   'trans_date': '2020-07-29',\n",
       "   'trans_time': '2020-07-29T07:58:56+00:00',\n",
       "   'amt': 118.23,\n",
       "   'merch_lat': 45.744008,\n",
       "   'merch_long': -109.124371,\n",
       "   'is_fraud': '0',\n",
       "   'cc_num': '3534330126107879',\n",
       "   'user_id': None},\n",
       "  {'id': 453,\n",
       "   'created_at': '2025-02-23T08:55:54.542968+00:00',\n",
       "   'merchant': 'Riot Eats',\n",
       "   'category': 'food_dining',\n",
       "   'trans_num': '4f2a347f29d9de1355bf805831ddfae0',\n",
       "   'trans_date': '2020-09-29',\n",
       "   'trans_time': '2020-09-29T18:58:24+00:00',\n",
       "   'amt': 55.95,\n",
       "   'merch_lat': 44.682822,\n",
       "   'merch_long': -108.575063,\n",
       "   'is_fraud': '0',\n",
       "   'cc_num': '3534330126107879',\n",
       "   'user_id': None},\n",
       "  {'id': 454,\n",
       "   'created_at': '2025-02-23T08:55:54.542968+00:00',\n",
       "   'merchant': 'Riot Entertainment',\n",
       "   'category': 'entertainment',\n",
       "   'trans_num': 'c6a333ba04412930696e2fb63c12a8ed',\n",
       "   'trans_date': '2020-12-08',\n",
       "   'trans_time': '2020-12-08T21:52:03+00:00',\n",
       "   'amt': 72.13,\n",
       "   'merch_lat': 45.559865,\n",
       "   'merch_long': -109.383368,\n",
       "   'is_fraud': '0',\n",
       "   'cc_num': '3534330126107879',\n",
       "   'user_id': None},\n",
       "  {'id': 455,\n",
       "   'created_at': '2025-02-23T08:55:54.542968+00:00',\n",
       "   'merchant': 'Riot General Store',\n",
       "   'category': 'misc_pos',\n",
       "   'trans_num': '4c74c993e2795a51daf1cc4107850cad',\n",
       "   'trans_date': '2020-12-31',\n",
       "   'trans_time': '2020-12-31T12:29:01+00:00',\n",
       "   'amt': 13.36,\n",
       "   'merch_lat': 45.651145,\n",
       "   'merch_long': -113.530343,\n",
       "   'is_fraud': '0',\n",
       "   'cc_num': '4292902571056973207',\n",
       "   'user_id': None},\n",
       "  {'id': 456,\n",
       "   'created_at': '2025-02-23T08:55:54.542968+00:00',\n",
       "   'merchant': 'Riot General Emporium',\n",
       "   'category': 'misc_pos',\n",
       "   'trans_num': '375ab21156f79cc30224a4a8095ff5df',\n",
       "   'trans_date': '2020-09-01',\n",
       "   'trans_time': '2020-09-01T05:41:42+00:00',\n",
       "   'amt': 15.78,\n",
       "   'merch_lat': 43.859035,\n",
       "   'merch_long': -111.756046,\n",
       "   'is_fraud': '0',\n",
       "   'cc_num': '4334230547694630',\n",
       "   'user_id': None},\n",
       "  {'id': 457,\n",
       "   'created_at': '2025-02-23T08:55:54.542968+00:00',\n",
       "   'merchant': 'Riot Marketplace',\n",
       "   'category': 'shopping_pos',\n",
       "   'trans_num': 'cd28e16fa048fd56a7a7fb2cde8a5d30',\n",
       "   'trans_date': '2020-09-06',\n",
       "   'trans_time': '2020-09-06T10:27:07+00:00',\n",
       "   'amt': 6.32,\n",
       "   'merch_lat': 43.475164,\n",
       "   'merch_long': -111.136948,\n",
       "   'is_fraud': '0',\n",
       "   'cc_num': '4334230547694630',\n",
       "   'user_id': None},\n",
       "  {'id': 458,\n",
       "   'created_at': '2025-02-23T08:55:54.542968+00:00',\n",
       "   'merchant': 'Riot Online Shop',\n",
       "   'category': 'shopping_net',\n",
       "   'trans_num': '5035c9fa60cb8bada114314efbb07267',\n",
       "   'trans_date': '2020-12-12',\n",
       "   'trans_time': '2020-12-12T01:11:48+00:00',\n",
       "   'amt': 1.08,\n",
       "   'merch_lat': 42.807109,\n",
       "   'merch_long': -111.361367,\n",
       "   'is_fraud': '0',\n",
       "   'cc_num': '4334230547694630',\n",
       "   'user_id': None},\n",
       "  {'id': 459,\n",
       "   'created_at': '2025-02-23T08:55:54.542968+00:00',\n",
       "   'merchant': 'Riot Fuel Express',\n",
       "   'category': 'gas_transport',\n",
       "   'trans_num': '9d057a52b89764d1c11972ba1e5f226c',\n",
       "   'trans_date': '2020-12-17',\n",
       "   'trans_time': '2020-12-17T02:07:46+00:00',\n",
       "   'amt': 62.52,\n",
       "   'merch_lat': 39.778624,\n",
       "   'merch_long': -76.843285,\n",
       "   'is_fraud': '0',\n",
       "   'cc_num': '3502088871723054',\n",
       "   'user_id': None},\n",
       "  {'id': 460,\n",
       "   'created_at': '2025-02-23T08:55:54.542968+00:00',\n",
       "   'merchant': 'Riot Wellness',\n",
       "   'category': 'health_fitness',\n",
       "   'trans_num': '1fb60d2e55854da6fc7ba5a25687f189',\n",
       "   'trans_date': '2020-12-21',\n",
       "   'trans_time': '2020-12-21T15:48:21+00:00',\n",
       "   'amt': 17.05,\n",
       "   'merch_lat': 43.275048,\n",
       "   'merch_long': -110.28553,\n",
       "   'is_fraud': '0',\n",
       "   'cc_num': '4334230547694630',\n",
       "   'user_id': None},\n",
       "  {'id': 461,\n",
       "   'created_at': '2025-02-23T08:55:54.542968+00:00',\n",
       "   'merchant': 'Riot General Depot',\n",
       "   'category': 'misc_pos',\n",
       "   'trans_num': '3279cf7a89df76459237dbe8b5627e30',\n",
       "   'trans_date': '2020-07-07',\n",
       "   'trans_time': '2020-07-07T12:09:01+00:00',\n",
       "   'amt': 193.51,\n",
       "   'merch_lat': 40.590841,\n",
       "   'merch_long': -80.76443,\n",
       "   'is_fraud': '0',\n",
       "   'cc_num': '4512828414983801773',\n",
       "   'user_id': None},\n",
       "  {'id': 462,\n",
       "   'created_at': '2025-02-23T08:55:54.542968+00:00',\n",
       "   'merchant': 'Riot Gas Transit',\n",
       "   'category': 'gas_transport',\n",
       "   'trans_num': '44e33b36f8b80f1cd59351ddf4a08174',\n",
       "   'trans_date': '2020-07-26',\n",
       "   'trans_time': '2020-07-26T01:03:06+00:00',\n",
       "   'amt': 53.39,\n",
       "   'merch_lat': 40.538883,\n",
       "   'merch_long': -79.134963,\n",
       "   'is_fraud': '0',\n",
       "   'cc_num': '4512828414983801773',\n",
       "   'user_id': None},\n",
       "  {'id': 463,\n",
       "   'created_at': '2025-02-23T08:55:54.542968+00:00',\n",
       "   'merchant': 'Riot Digital Market',\n",
       "   'category': 'shopping_net',\n",
       "   'trans_num': 'bf2a0e6113cc13125cccbf806e404fd9',\n",
       "   'trans_date': '2020-08-29',\n",
       "   'trans_time': '2020-08-29T12:19:32+00:00',\n",
       "   'amt': 1.58,\n",
       "   'merch_lat': 40.118677,\n",
       "   'merch_long': -80.060478,\n",
       "   'is_fraud': '0',\n",
       "   'cc_num': '4512828414983801773',\n",
       "   'user_id': None},\n",
       "  {'id': 464,\n",
       "   'created_at': '2025-02-23T08:55:54.542968+00:00',\n",
       "   'merchant': 'Riot Home Interiors',\n",
       "   'category': ' Jakubowski and Littel home',\n",
       "   'trans_num': 'ee9042fb325630556a42affd3a7d45ef',\n",
       "   'trans_date': '2020-09-06',\n",
       "   'trans_time': '2020-09-06T13:07:48+00:00',\n",
       "   'amt': 66.88,\n",
       "   'merch_lat': 39.294433,\n",
       "   'merch_long': -80.650978,\n",
       "   'is_fraud': '0',\n",
       "   'cc_num': '4512828414983801773',\n",
       "   'user_id': None},\n",
       "  {'id': 465,\n",
       "   'created_at': '2025-02-23T08:55:54.542968+00:00',\n",
       "   'merchant': 'Riot Family Mart',\n",
       "   'category': 'kids_pets',\n",
       "   'trans_num': '00bac174f13f10c94a86ea304eeb0fdc',\n",
       "   'trans_date': '2020-12-20',\n",
       "   'trans_time': '2020-12-20T17:29:56+00:00',\n",
       "   'amt': 18.71,\n",
       "   'merch_lat': 40.414023,\n",
       "   'merch_long': -80.149137,\n",
       "   'is_fraud': '0',\n",
       "   'cc_num': '4512828414983801773',\n",
       "   'user_id': None},\n",
       "  {'id': 466,\n",
       "   'created_at': '2025-02-23T08:55:54.542968+00:00',\n",
       "   'merchant': 'Riot Shop Direct',\n",
       "   'category': 'shopping_pos',\n",
       "   'trans_num': 'c2ae578f46b910326c774d1f8a2d20e0',\n",
       "   'trans_date': '2020-07-15',\n",
       "   'trans_time': '2020-07-15T19:31:49+00:00',\n",
       "   'amt': 41.28,\n",
       "   'merch_lat': 45.008408,\n",
       "   'merch_long': -85.664944,\n",
       "   'is_fraud': '0',\n",
       "   'cc_num': '571365235126',\n",
       "   'user_id': None},\n",
       "  {'id': 467,\n",
       "   'created_at': '2025-02-23T08:55:54.542968+00:00',\n",
       "   'merchant': 'Riot Energy Logistics',\n",
       "   'category': 'gas_transport',\n",
       "   'trans_num': '8f22ae8051c91f58e1c629694097c94f',\n",
       "   'trans_date': '2020-08-23',\n",
       "   'trans_time': '2020-08-23T07:14:31+00:00',\n",
       "   'amt': 78.69,\n",
       "   'merch_lat': 45.089551,\n",
       "   'merch_long': -86.255237,\n",
       "   'is_fraud': '0',\n",
       "   'cc_num': '571365235126',\n",
       "   'user_id': None},\n",
       "  {'id': 468,\n",
       "   'created_at': '2025-02-23T08:55:54.542968+00:00',\n",
       "   'merchant': 'Riot Pet & Play',\n",
       "   'amt': 6.18,\n",
       "   'merch_lat': 44.577043,\n",
       "   'merch_long': -85.382065,\n",
       "   'is_fraud': '0',\n",
       "   'cc_num': '571365235126',\n",
       "   'user_id': None},\n",
       "  {'id': 469,\n",
       "   'created_at': '2025-02-23T08:55:54.542968+00:00',\n",
       "   'merchant': 'Riot Family Pets',\n",
       "   'category': 'kids_pets',\n",
       "   'trans_num': 'a0b2dc2ba33ac56f5922ad557ef5ea36',\n",
       "   'trans_date': '2020-11-17',\n",
       "   'trans_time': '2020-11-17T21:29:30+00:00',\n",
       "   'amt': 28.99,\n",
       "   'merch_lat': 44.434447,\n",
       "   'merch_long': -86.191018,\n",
       "   'is_fraud': '0',\n",
       "   'cc_num': '571365235126',\n",
       "   'user_id': None},\n",
       "  {'id': 470,\n",
       "   'created_at': '2025-02-23T08:55:54.542968+00:00',\n",
       "   'merchant': 'Riot Adventures',\n",
       "   'category': 'travel',\n",
       "   'trans_num': '88b103054304f8af58f92be5d3236dd8',\n",
       "   'trans_date': '2020-11-30',\n",
       "   'trans_time': '2020-11-30T20:12:00+00:00',\n",
       "   'amt': 4.47,\n",
       "   'merch_lat': 43.916348,\n",
       "   'merch_long': -86.142588,\n",
       "   'is_fraud': '0',\n",
       "   'cc_num': '571365235126',\n",
       "   'user_id': None}]}"
      ]
     },
     "execution_count": 19,
     "metadata": {},
     "output_type": "execute_result"
    }
   ],
   "source": [
    "from dotenv import load_dotenv\n",
    "from nest_asyncio import apply\n",
    "apply()\n",
    "load_dotenv()\n",
    "\n",
    "from db import reset_db\n",
    "await reset_db()\n",
    "# await get_cust(\"3502088871723054\")"
   ]
  },
  {
   "cell_type": "code",
   "execution_count": 29,
   "metadata": {},
   "outputs": [
    {
     "name": "stdout",
     "output_type": "stream",
     "text": [
      "Exception while setting locked status for cc 3502088871723054: module 'supabase' has no attribute 'table'\n",
      "Unexpected error while retrieving customer: module 'supabase' has no attribute 'table'\n"
     ]
    },
    {
     "data": {
      "text/plain": [
       "{'error': 'Internal server error',\n",
       " 'details': \"module 'supabase' has no attribute 'table'\"}"
      ]
     },
     "execution_count": 29,
     "metadata": {},
     "output_type": "execute_result"
    }
   ],
   "source": [
    "from db import set_locked, get_cust\n",
    "await set_locked(\"3502088871723054\", \"pending high\")\n",
    "await get_cust(\"3502088871723054\")"
   ]
  },
  {
   "cell_type": "code",
   "execution_count": 15,
   "metadata": {},
   "outputs": [
    {
     "name": "stdout",
     "output_type": "stream",
     "text": [
      "Checking for customer with cc_num: 3502088871723054\n",
      "Customer query response: data={'id': 81, 'created_at': '2025-02-22T22:21:44.756018+00:00', 'first_name': 'Bill', 'last_name': 'Zhang', 'cc': '3502088871723054', 'street': '123 San Jose Ave', 'city': 'San Jose', 'state': 'CA', 'zip': 95112, 'lat': 37.3382, 'long': -121.8863, 'job': 'AI Engineer', 'dob': '2002-09-27', 'gender': 'M', 'is_locked': 'pending high'} count=None\n",
      "Customer found, user_id: 81\n",
      "Inserting new transaction: {'trans_num': 'e7083473-0a01-451f-8cd7-17144fdeeb42', 'trans_date': '2025-02-23', 'trans_time': '2025-02-23T03:59:10.972517', 'merchant': 'fraud_Altenwerth-Kilback', 'category': 'home', 'amt': 27.12, 'merch_lat': 38.0298, 'merch_long': -77.0793, 'is_fraud': '2', 'cc_num': '3502088871723054', 'user_id': 81}\n",
      "Insert response: data=[{'id': 553, 'created_at': '2025-02-23T08:59:11.177898+00:00', 'merchant': 'fraud_Altenwerth-Kilback', 'category': 'home', 'trans_num': 'e7083473-0a01-451f-8cd7-17144fdeeb42', 'trans_date': '2025-02-23', 'trans_time': '2025-02-23T03:59:10.972517+00:00', 'amt': 27.12, 'merch_lat': 38.0298, 'merch_long': -77.0793, 'is_fraud': '2', 'cc_num': '3502088871723054', 'user_id': 81}] count=None\n",
      "Transaction inserted successfully: {'trans_num': 'e7083473-0a01-451f-8cd7-17144fdeeb42', 'trans_date': '2025-02-23', 'trans_time': '2025-02-23T03:59:10.972517', 'merchant': 'fraud_Altenwerth-Kilback', 'category': 'home', 'amt': 27.12, 'merch_lat': 38.0298, 'merch_long': -77.0793, 'is_fraud': '2', 'cc_num': '3502088871723054', 'user_id': 81}\n"
     ]
    },
    {
     "data": {
      "text/plain": [
       "{'success': \"Transaction inserted successfully: {'trans_num': 'e7083473-0a01-451f-8cd7-17144fdeeb42', 'trans_date': '2025-02-23', 'trans_time': '2025-02-23T03:59:10.972517', 'merchant': 'fraud_Altenwerth-Kilback', 'category': 'home', 'amt': 27.12, 'merch_lat': 38.0298, 'merch_long': -77.0793, 'is_fraud': '2', 'cc_num': '3502088871723054', 'user_id': 81}\",\n",
       " 'data': [{'id': 553,\n",
       "   'created_at': '2025-02-23T08:59:11.177898+00:00',\n",
       "   'merchant': 'fraud_Altenwerth-Kilback',\n",
       "   'category': 'home',\n",
       "   'trans_num': 'e7083473-0a01-451f-8cd7-17144fdeeb42',\n",
       "   'trans_date': '2025-02-23',\n",
       "   'trans_time': '2025-02-23T03:59:10.972517+00:00',\n",
       "   'amt': 27.12,\n",
       "   'merch_lat': 38.0298,\n",
       "   'merch_long': -77.0793,\n",
       "   'is_fraud': '2',\n",
       "   'cc_num': '3502088871723054',\n",
       "   'user_id': 81}]}"
      ]
     },
     "execution_count": 15,
     "metadata": {},
     "output_type": "execute_result"
    }
   ],
   "source": [
    "await insert_trans(\n",
    "    cc_num=\"3502088871723054\",\n",
    "    merchant=\"fraud_Altenwerth-Kilback\",\n",
    "    category=\"home\",\n",
    "    amt=27.12,\n",
    "    merch_lat=38.0298,\n",
    "    merch_long=-77.0793,\n",
    "    is_fraud=\"2\"\n",
    ")"
   ]
  },
  {
   "cell_type": "code",
   "execution_count": 16,
   "metadata": {},
   "outputs": [
    {
     "data": {
      "text/plain": [
       "{'success': 'Updated 1 row(s).',\n",
       " 'data': [{'id': 552,\n",
       "   'created_at': '2025-02-23T08:59:10.591998+00:00',\n",
       "   'merchant': 'Riot Adventures',\n",
       "   'category': 'electronics',\n",
       "   'trans_num': '88b103054304f8af58f92be5d3236dd8',\n",
       "   'trans_date': '2020-11-30',\n",
       "   'trans_time': '2020-11-30T20:12:00+00:00',\n",
       "   'amt': 129.99,\n",
       "   'merch_lat': 43.916348,\n",
       "   'merch_long': -86.142588,\n",
       "   'is_fraud': '0',\n",
       "   'cc_num': '571365235126',\n",
       "   'user_id': None}]}"
      ]
     },
     "execution_count": 16,
     "metadata": {},
     "output_type": "execute_result"
    }
   ],
   "source": [
    "await update_trans(\"88b103054304f8af58f92be5d3236dd8\", {\"category\": \"electronics\", \"amt\": 129.99}) "
   ]
  },
  {
   "cell_type": "code",
   "execution_count": 17,
   "metadata": {},
   "outputs": [
    {
     "name": "stdout",
     "output_type": "stream",
     "text": [
      "Customer found: {'id': 81, 'created_at': '2025-02-22T22:21:44.756018+00:00', 'first_name': 'Bill', 'last_name': 'Zhang', 'cc': '3502088871723054', 'street': '123 San Jose Ave', 'city': 'San Jose', 'state': 'CA', 'zip': 95112, 'lat': 37.3382, 'long': -121.8863, 'job': 'AI Engineer', 'dob': '2002-09-27', 'gender': 'M', 'is_locked': 'pending high'}\n"
     ]
    },
    {
     "data": {
      "text/plain": [
       "{'success': True,\n",
       " 'customer': {'id': 81,\n",
       "  'created_at': '2025-02-22T22:21:44.756018+00:00',\n",
       "  'first_name': 'Bill',\n",
       "  'last_name': 'Zhang',\n",
       "  'cc': '3502088871723054',\n",
       "  'street': '123 San Jose Ave',\n",
       "  'city': 'San Jose',\n",
       "  'state': 'CA',\n",
       "  'zip': 95112,\n",
       "  'lat': 37.3382,\n",
       "  'long': -121.8863,\n",
       "  'job': 'AI Engineer',\n",
       "  'dob': '2002-09-27',\n",
       "  'gender': 'M',\n",
       "  'is_locked': 'pending high'}}"
      ]
     },
     "execution_count": 17,
     "metadata": {},
     "output_type": "execute_result"
    }
   ],
   "source": [
    "await get_cust(\"3502088871723054\")"
   ]
  },
  {
   "cell_type": "code",
   "execution_count": 18,
   "metadata": {},
   "outputs": [
    {
     "name": "stdout",
     "output_type": "stream",
     "text": [
      "Updated locked status for customer with cc 3502088871723054.\n"
     ]
    },
    {
     "data": {
      "text/plain": [
       "{'success': 'Updated locked status for customer with cc 3502088871723054.',\n",
       " 'data': [{'id': 81,\n",
       "   'created_at': '2025-02-22T22:21:44.756018+00:00',\n",
       "   'first_name': 'Bill',\n",
       "   'last_name': 'Zhang',\n",
       "   'cc': '3502088871723054',\n",
       "   'street': '123 San Jose Ave',\n",
       "   'city': 'San Jose',\n",
       "   'state': 'CA',\n",
       "   'zip': 95112,\n",
       "   'lat': 37.3382,\n",
       "   'long': -121.8863,\n",
       "   'job': 'AI Engineer',\n",
       "   'dob': '2002-09-27',\n",
       "   'gender': 'M',\n",
       "   'is_locked': 'pending high'}]}"
      ]
     },
     "execution_count": 18,
     "metadata": {},
     "output_type": "execute_result"
    }
   ],
   "source": [
    "await set_locked(\"3502088871723054\", \"pending high\")"
   ]
  }
 ],
 "metadata": {
  "kernelspec": {
   "display_name": "base",
   "language": "python",
   "name": "python3"
  },
  "language_info": {
   "codemirror_mode": {
    "name": "ipython",
    "version": 3
   },
   "file_extension": ".py",
   "mimetype": "text/x-python",
   "name": "python",
   "nbconvert_exporter": "python",
   "pygments_lexer": "ipython3",
   "version": "3.11.7"
  }
 },
 "nbformat": 4,
 "nbformat_minor": 2
}
