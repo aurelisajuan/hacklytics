{
 "cells": [
  {
   "cell_type": "code",
   "execution_count": 1,
   "metadata": {},
   "outputs": [
    {
     "name": "stdout",
     "output_type": "stream",
     "text": [
      "Clearing transactions table...\n",
      "Transactions table cleared: []\n",
      "Loading data from base.csv...\n",
      "CSV schema (field names): ['trans_date_trans_time', 'cc_num', 'merchant', 'category', 'amt', 'first', 'last', 'gender', 'street', 'city', 'state', 'zip', 'lat', 'long', 'city_pop', 'job', 'dob', 'trans_num', 'unix_time', 'merch_lat', 'merch_long', 'is_fraud']\n",
      "Exception in reset_database: unconverted data remains: p\n"
     ]
    },
    {
     "data": {
      "text/plain": [
       "{'error': 'Exception in reset_database: unconverted data remains: p'}"
      ]
     },
     "execution_count": 1,
     "metadata": {},
     "output_type": "execute_result"
    }
   ],
   "source": [
    "from dotenv import load_dotenv\n",
    "from nest_asyncio import apply\n",
    "apply()\n",
    "load_dotenv()\n",
    "\n",
    "\n",
    "from db import reset_db\n",
    "await reset_db()"
   ]
  }
 ],
 "metadata": {
  "kernelspec": {
   "display_name": "banklytics",
   "language": "python",
   "name": "python3"
  },
  "language_info": {
   "codemirror_mode": {
    "name": "ipython",
    "version": 3
   },
   "file_extension": ".py",
   "mimetype": "text/x-python",
   "name": "python",
   "nbconvert_exporter": "python",
   "pygments_lexer": "ipython3",
   "version": "3.12.2"
  }
 },
 "nbformat": 4,
 "nbformat_minor": 2
}
