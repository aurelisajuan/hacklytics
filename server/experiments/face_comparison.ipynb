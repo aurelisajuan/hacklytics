{
 "cells": [
  {
   "cell_type": "code",
   "execution_count": 15,
   "metadata": {},
   "outputs": [],
   "source": [
    "import face_recognition\n",
    "import base64\n",
    "import io\n",
    "from PIL import Image\n",
    "import numpy as np"
   ]
  },
  {
   "cell_type": "code",
   "execution_count": 16,
   "metadata": {},
   "outputs": [],
   "source": [
    "known_image_paths = [\"./face/1.jpg\", \"./face/2.jpg\", \"./face/3.jpg\", \"./face/4.jpg\"]\n",
    "known_encodings = []\n",
    "for image_path in known_image_paths:\n",
    "    image = face_recognition.load_image_file(image_path)\n",
    "    # face_encodings returns a list of encodings (one per face found)\n",
    "    encoding = face_recognition.face_encodings(image)[0]\n",
    "    known_encodings.append(encoding)"
   ]
  },
  {
   "cell_type": "code",
   "execution_count": 17,
   "metadata": {},
   "outputs": [],
   "source": [
    "# save as .pkl\n",
    "import pickle\n",
    "with open('known_encodings.pkl', 'wb') as f:\n",
    "    pickle.dump(known_encodings, f)\n"
   ]
  },
  {
   "cell_type": "code",
   "execution_count": 18,
   "metadata": {},
   "outputs": [],
   "source": [
    "# Read and encode image file to base64\n",
    "with open('./face/5.jpg', 'rb') as image_file:\n",
    "    unknown_base64 = base64.b64encode(image_file.read()).decode('utf-8')\n",
    "\n",
    "decoded_data = base64.b64decode(unknown_base64)\n",
    "unknown_image = Image.open(io.BytesIO(decoded_data))\n",
    "unknown_image_np = np.array(unknown_image)"
   ]
  },
  {
   "cell_type": "code",
   "execution_count": 19,
   "metadata": {},
   "outputs": [],
   "source": [
    "unknown_encodings = face_recognition.face_encodings(unknown_image_np)\n",
    "if not unknown_encodings:\n",
    "    print(\"No face found in the unknown image.\")\n",
    "    exit()\n",
    "unknown_encoding = unknown_encodings[0]"
   ]
  },
  {
   "cell_type": "code",
   "execution_count": 20,
   "metadata": {},
   "outputs": [
    {
     "name": "stdout",
     "output_type": "stream",
     "text": [
      "Face distances for each known image: [0.29987609 0.37179492 0.34906103 0.3981873 ]\n",
      "Average face distance: 0.35472983650744333\n",
      "Match found\n"
     ]
    }
   ],
   "source": [
    "distances = face_recognition.face_distance(known_encodings, unknown_encoding)\n",
    "average_distance = distances.mean()\n",
    "\n",
    "print(\"Face distances for each known image:\", distances)\n",
    "print(\"Average face distance:\", average_distance)\n",
    "if average_distance < 0.4:\n",
    "    print(\"Match found\")\n",
    "else:\n",
    "    print(\"No match found\")\n"
   ]
  },
  {
   "cell_type": "code",
   "execution_count": 21,
   "metadata": {},
   "outputs": [],
   "source": [
    "# Read and encode image file to base64\n",
    "with open(\"./face/7.jpg\", \"rb\") as image_file:\n",
    "    unknown_base64 = base64.b64encode(image_file.read()).decode(\"utf-8\")\n",
    "\n",
    "decoded_data = base64.b64decode(unknown_base64)\n",
    "unknown_image = Image.open(io.BytesIO(decoded_data))\n",
    "unknown_image_np = np.array(unknown_image)"
   ]
  },
  {
   "cell_type": "code",
   "execution_count": 22,
   "metadata": {},
   "outputs": [],
   "source": [
    "unknown_encodings = face_recognition.face_encodings(unknown_image_np)\n",
    "if not unknown_encodings:\n",
    "    print(\"No face found in the unknown image.\")\n",
    "    exit()\n",
    "unknown_encoding = unknown_encodings[0]"
   ]
  },
  {
   "cell_type": "code",
   "execution_count": 23,
   "metadata": {},
   "outputs": [
    {
     "name": "stdout",
     "output_type": "stream",
     "text": [
      "Face distances for each known image: [0.44635304 0.48582773 0.47804568 0.54687754]\n",
      "Average face distance: 0.4892759989604156\n",
      "No match found\n"
     ]
    }
   ],
   "source": [
    "distances = face_recognition.face_distance(known_encodings, unknown_encoding)\n",
    "average_distance = distances.mean()\n",
    "\n",
    "print(\"Face distances for each known image:\", distances)\n",
    "print(\"Average face distance:\", average_distance)\n",
    "if average_distance < 0.4:\n",
    "    print(\"Match found\")\n",
    "else:\n",
    "    print(\"No match found\")\n"
   ]
  }
 ],
 "metadata": {
  "kernelspec": {
   "display_name": "banklytics",
   "language": "python",
   "name": "python3"
  },
  "language_info": {
   "codemirror_mode": {
    "name": "ipython",
    "version": 3
   },
   "file_extension": ".py",
   "mimetype": "text/x-python",
   "name": "python",
   "nbconvert_exporter": "python",
   "pygments_lexer": "ipython3",
   "version": "3.12.2"
  }
 },
 "nbformat": 4,
 "nbformat_minor": 2
}
