{
 "cells": [
  {
   "cell_type": "markdown",
   "metadata": {},
   "source": [
    "Grabs the top 5 names from the fraudTest.csv file."
   ]
  },
  {
   "cell_type": "code",
   "execution_count": 2,
   "metadata": {},
   "outputs": [
    {
     "name": "stdout",
     "output_type": "stream",
     "text": [
      "        first        last  transaction_count\n",
      "788     Scott      Martin               1965\n",
      "385   Jeffrey       Smith               1526\n",
      "314      Gina      Grimes               1474\n",
      "655  Michelle     Gregory               1466\n",
      "132    Carrie  Washington               1462\n"
     ]
    }
   ],
   "source": [
    "import pandas as pd\n",
    "\n",
    "# Load the CSV file. Adjust the filename/path as needed.\n",
    "df = pd.read_csv('../fraudTest.csv', index_col=0)\n",
    "\n",
    "# Group by the first and last name, and count transactions for each group.\n",
    "transaction_counts = df.groupby(['first', 'last']).size().reset_index(name='transaction_count')\n",
    "\n",
    "# Sort the result in descending order by the transaction count.\n",
    "top_names = transaction_counts.sort_values('transaction_count', ascending=False)\n",
    "\n",
    "print(top_names.head(5))\n"
   ]
  }
 ],
 "metadata": {
  "kernelspec": {
   "display_name": "venv",
   "language": "python",
   "name": "python3"
  },
  "language_info": {
   "codemirror_mode": {
    "name": "ipython",
    "version": 3
   },
   "file_extension": ".py",
   "mimetype": "text/x-python",
   "name": "python",
   "nbconvert_exporter": "python",
   "pygments_lexer": "ipython3",
   "version": "3.11.7"
  }
 },
 "nbformat": 4,
 "nbformat_minor": 2
}
