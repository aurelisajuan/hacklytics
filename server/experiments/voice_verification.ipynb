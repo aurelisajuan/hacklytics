{
 "cells": [
  {
   "cell_type": "code",
   "execution_count": 1,
   "metadata": {},
   "outputs": [
    {
     "data": {
      "text/plain": [
       "np.float32(0.99787563)"
      ]
     },
     "execution_count": 1,
     "metadata": {},
     "output_type": "execute_result"
    }
   ],
   "source": [
    "import librosa\n",
    "import numpy as np\n",
    "from scipy.spatial.distance import cosine\n",
    "\n",
    "def extract_mfcc(file_path, n_mfcc=13):\n",
    "    # Load audio file\n",
    "    y, sr = librosa.load(file_path, sr=16000)\n",
    "    # Extract MFCCs\n",
    "    mfcc = librosa.feature.mfcc(y=y, sr=sr, n_mfcc=n_mfcc)\n",
    "    # Compute the mean of the MFCCs across time frames as a simple embedding\n",
    "    mfcc_mean = np.mean(mfcc, axis=1)\n",
    "    return mfcc_mean\n",
    "\n",
    "def verify_speaker(file1, file2):\n",
    "    emb1 = extract_mfcc(file1)\n",
    "    emb2 = extract_mfcc(file2)\n",
    "    # Calculate cosine similarity (1 indicates identical, 0 completely different)\n",
    "    similarity = 1 - cosine(emb1, emb2)\n",
    "    return similarity\n",
    "\n",
    "verify_speaker('./sample_voices/warren_base.wav', './sample_voices/warren_test1.wav')"
   ]
  }
 ],
 "metadata": {
  "kernelspec": {
   "display_name": "venv",
   "language": "python",
   "name": "python3"
  },
  "language_info": {
   "codemirror_mode": {
    "name": "ipython",
    "version": 3
   },
   "file_extension": ".py",
   "mimetype": "text/x-python",
   "name": "python",
   "nbconvert_exporter": "python",
   "pygments_lexer": "ipython3",
   "version": "3.11.7"
  }
 },
 "nbformat": 4,
 "nbformat_minor": 2
}
