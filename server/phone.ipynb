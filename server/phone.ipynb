{
 "cells": [
  {
   "cell_type": "code",
   "execution_count": 13,
   "metadata": {},
   "outputs": [
    {
     "name": "stdout",
     "output_type": "stream",
     "text": [
      "PhoneCallResponse(agent_id='agent_6e44de83f76708ee0b842b0510', call_id='call_0beee08df4230bf3cc2af5168e7', call_status='registered', call_type='phone_call', direction='outbound', from_number='+13192504307', to_number='+14085858267', call_analysis=None, call_cost=CallCost(combined_cost=0.0, product_costs=[], total_duration_seconds=0.0, total_duration_unit_price=0.0, total_one_time_price=0.0), disconnection_reason=None, end_timestamp=None, latency=Latency(e2e=None, knowledge_base=None, llm=None, llm_websocket_network_rtt=None, s2s=None, tts=None), metadata={'mode': 1, 'transaction_details': 'Credit card charge of $500.00 at Riot Games - League of Legends on January 15, 2024. Card ending in ****5678. Transaction ID: CC-2024011587432. Status: Posted. Category: Gaming/Entertainment. Available credit: $4,532.10', 'user_details': 'Name: Bill Zhang, Account: 4321-8765-9012, Type: Premium Credit Card, Credit Limit: $10,000.00, Customer Since: 2019, Phone: +14085858267, Email: bill.zhang@email.com, Address: 123 Oak Street, San Jose CA 95123, Contact Preference: Phone, Last Contact: Jan 2 2024, Status: Good Standing'}, opt_out_sensitive_data_storage=False, public_log_url=None, recording_url=None, retell_llm_dynamic_variables=None, start_timestamp=None, telephony_identifier=None, transcript=None, transcript_object=None, transcript_with_tool_calls=None)\n"
     ]
    }
   ],
   "source": [
    "from retell import Retell\n",
    "import os\n",
    "from dotenv import load_dotenv\n",
    "\n",
    "load_dotenv()\n",
    "\n",
    "mode = 1\n",
    "transaction_details = \"Credit card charge of $500.00 at Riot Games - League of Legends on January 15, 2024. Card ending in ****5678. Transaction ID: CC-2024011587432. Status: Posted. Category: Gaming/Entertainment. Available credit: $4,532.10\"\n",
    "user_details = \"Name: Bill Zhang, Account: 4321-8765-9012, Type: Premium Credit Card, Credit Limit: $10,000.00, Customer Since: 2019, Phone: +14085858267, Email: bill.zhang@email.com, Address: 123 Oak Street, San Jose CA 95123, Contact Preference: Phone, Last Contact: Jan 2 2024, Status: Good Standing\"\n",
    "\n",
    "\n",
    "retell = Retell(api_key=os.environ[\"RETELL_API_KEY\"])\n",
    "call = retell.call.create_phone_call(\n",
    "    from_number=\"+13192504307\", \n",
    "    to_number=\"+14085858267\",  # replace with the number you want to call\n",
    "    metadata={\"mode\": mode, \"transaction_details\": transaction_details, \"user_details\": user_details},\n",
    ")\n",
    "print(call)"
   ]
  }
 ],
 "metadata": {
  "kernelspec": {
   "display_name": "banklytics",
   "language": "python",
   "name": "python3"
  },
  "language_info": {
   "codemirror_mode": {
    "name": "ipython",
    "version": 3
   },
   "file_extension": ".py",
   "mimetype": "text/x-python",
   "name": "python",
   "nbconvert_exporter": "python",
   "pygments_lexer": "ipython3",
   "version": "3.12.2"
  }
 },
 "nbformat": 4,
 "nbformat_minor": 2
}
